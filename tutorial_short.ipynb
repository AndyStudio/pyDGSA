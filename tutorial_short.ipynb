{
 "cells": [
  {
   "cell_type": "markdown",
   "metadata": {},
   "source": [
    "## pyDGSA tutorial (detailed version)\n",
    "\n",
    "This analytic example consists of 200 model simulations, each of which has 4 parameters and 2 responses. The model parameters are latin hypercube sampled values between 0 and 1:\n",
    "\n",
    "| v | w | x | y | z |\n",
    "|------|------|------|------|------|\n",
    "|0.7975|0.5725|0.5475|0.0675|0.6225|\n",
    "|0.8175|0.5125|0.3325|0.1325|0.6175|\n",
    "|0.2075|0.5925|0.7475|0.3625|0.4625|\n",
    "| .... | .... | .... | .... | .... |\n",
    "\n",
    "The responses are calculated as:\n",
    "\n",
    "| Resp. 1 | Resp. 2 | Resp. 3         | Resp. 4 |\n",
    "|---|---|-----------------|---------|\n",
    "| z | abs(x * (y - 1)) | sqrt(min(x, y)) | sqrt(z) |\n",
    "\n",
    "Clearly, `z` should be the most sensitive parameter, followed by `x` and `y`. This is a modified version of the problem presented in <a href=\"https:doi.org/10.1007/s11004-014-9530-5\">Fenwick et al. (2014)</a>, with two extra parameters (`v` and `w`) and two extra response categories."
   ]
  },
  {
   "cell_type": "code",
   "execution_count": 1,
   "metadata": {
    "ExecuteTime": {
     "end_time": "2023-04-26T11:42:53.097649Z",
     "start_time": "2023-04-26T11:42:53.042113Z"
    }
   },
   "outputs": [],
   "source": [
    "import numpy as np\n",
    "\n",
    "# Load model parameters \n",
    "parameters = np.load('sample_data/analytic_params.npy')\n",
    "responses = np.empty((parameters.shape[0], 4), dtype='float64')\n",
    "\n",
    "# Construct model responses\n",
    "responses[:, 0] = parameters[:, 4]\n",
    "responses[:, 1] = np.abs(parameters[:, 2] * parameters[:, 3]-1)\n",
    "responses[:, 2] = np.sqrt(np.minimum(parameters[:, 2], parameters[:, 3]))\n",
    "responses[:, 3] = np.sqrt(parameters[:, 4])"
   ]
  },
  {
   "cell_type": "code",
   "execution_count": 2,
   "metadata": {
    "ExecuteTime": {
     "end_time": "2023-04-26T11:42:53.205434Z",
     "start_time": "2023-04-26T11:42:53.083628Z"
    }
   },
   "outputs": [],
   "source": [
    "# Now, calculate the euclidean distances between model responses\n",
    "from scipy.spatial.distance import pdist, squareform\n",
    "\n",
    "distances = pdist(responses, metric='euclidean')\n",
    "distances = squareform(distances)"
   ]
  },
  {
   "cell_type": "code",
   "execution_count": 3,
   "metadata": {
    "ExecuteTime": {
     "end_time": "2023-04-26T11:42:54.285760Z",
     "start_time": "2023-04-26T11:42:53.196705Z"
    }
   },
   "outputs": [],
   "source": [
    "# Cluster the responses using KMedoids\n",
    "from pyDGSA.cluster import KMedoids\n",
    "\n",
    "n_clusters = 3\n",
    "clusterer = KMedoids(n_clusters=n_clusters, max_iter=3000, tol=1e-4)\n",
    "labels, medoids = clusterer.fit_predict(distances)"
   ]
  },
  {
   "cell_type": "code",
   "execution_count": 4,
   "metadata": {
    "ExecuteTime": {
     "end_time": "2023-04-26T11:42:57.242195Z",
     "start_time": "2023-04-26T11:42:54.287715Z"
    }
   },
   "outputs": [
    {
     "data": {
      "application/vnd.jupyter.widget-view+json": {
       "model_id": "fec6aed423ff43d49c9239b9b02466d4",
       "version_major": 2,
       "version_minor": 0
      },
      "text/plain": [
       "  0%|          | 0/3000 [00:00<?, ?it/s]"
      ]
     },
     "metadata": {},
     "output_type": "display_data"
    },
    {
     "name": "stdout",
     "output_type": "stream",
     "text": [
      "   sensitivity  confidence\n",
      "v     0.825947    0.511359\n",
      "w     0.490448    0.314638\n",
      "x     2.273998    1.334607\n",
      "y     2.207153    1.365337\n",
      "z     3.690567    2.265614\n"
     ]
    }
   ],
   "source": [
    "# Calculate mean sensitivity across clusters\n",
    "from pyDGSA.dgsa import dgsa\n",
    "\n",
    "sens = dgsa(parameters, labels, parameter_names=['v', 'w', 'x', 'y', 'z'],\n",
    "            confidence=True)\n",
    "print(sens)"
   ]
  },
  {
   "cell_type": "code",
   "execution_count": 5,
   "metadata": {
    "ExecuteTime": {
     "end_time": "2023-04-26T11:42:57.860676Z",
     "start_time": "2023-04-26T11:42:57.239218Z"
    }
   },
   "outputs": [
    {
     "data": {
      "image/png": "[encoded data removed]",
      "text/plain": [
       "<Figure size 500x200 with 1 Axes>"
      ]
     },
     "metadata": {},
     "output_type": "display_data"
    }
   ],
   "source": [
    "# Generate a pareto plot of the results\n",
    "from pyDGSA.plot import vert_pareto_plot\n",
    "\n",
    "fig, ax = vert_pareto_plot(sens, confidence=True)"
   ]
  },
  {
   "cell_type": "code",
   "execution_count": null,
   "metadata": {},
   "outputs": [],
   "source": []
  }
 ],
 "metadata": {
  "kernelspec": {
   "display_name": "Python 3",
   "language": "python",
   "name": "python3"
  },
  "language_info": {
   "codemirror_mode": {
    "name": "ipython",
    "version": 3
   },
   "file_extension": ".py",
   "mimetype": "text/x-python",
   "name": "python",
   "nbconvert_exporter": "python",
   "pygments_lexer": "ipython3",
   "version": "3.12.0"
  }
 },
 "nbformat": 4,
 "nbformat_minor": 4
}
