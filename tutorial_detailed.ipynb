{
 "cells": [
  {
   "cell_type": "markdown",
   "metadata": {},
   "source": [
    "## pyDGSA tutorial (detailed version)\n",
    "\n",
    "This analytic example consists of 200 model simulations, each of which has 4 parameters and 2 responses. The model parameters are latin hypercube sampled values between 0 and 1:\n",
    "\n",
    "| v | w | x | y | z |\n",
    "|------|------|------|------|------|\n",
    "|0.7975|0.5725|0.5475|0.0675|0.6225|\n",
    "|0.8175|0.5125|0.3325|0.1325|0.6175|\n",
    "|0.2075|0.5925|0.7475|0.3625|0.4625|\n",
    "| .... | .... | .... | .... | .... |\n",
    "\n",
    "The responses are calculated as:\n",
    "\n",
    "| Resp. 1 | Resp. 2 | Resp. 3         | Resp. 4 |\n",
    "|---|---|-----------------|---------|\n",
    "| z | abs(x * (y - 1)) | sqrt(min(x, y)) | sqrt(z) |\n",
    "\n",
    "Clearly, `z` should be the most sensitive parameter, followed by `x` and `y`. This is a modified version of the problem presented in <a href=\"https:doi.org/10.1007/s11004-014-9530-5\">Fenwick et al. (2014)</a>, with two extra parameters (`v` and `w`) and two extra response categories."
   ]
  },
  {
   "cell_type": "code",
   "execution_count": 1,
   "metadata": {
    "ExecuteTime": {
     "end_time": "2023-04-26T11:53:02.007661Z",
     "start_time": "2023-04-26T11:53:01.948698Z"
    }
   },
   "outputs": [],
   "source": [
    "import numpy as np\n",
    "\n",
    "# Load model parameters \n",
    "parameters = np.load('sample_data/analytic_params.npy')\n",
    "responses = np.empty((parameters.shape[0], 4), dtype='float64')\n",
    "\n",
    "# Construct model responses\n",
    "responses[:, 0] = parameters[:, 4]\n",
    "responses[:, 1] = np.abs(parameters[:, 2] * parameters[:, 3]-1)\n",
    "responses[:, 2] = np.sqrt(np.minimum(parameters[:, 2], parameters[:, 3]))\n",
    "responses[:, 3] = np.sqrt(parameters[:, 4])"
   ]
  },
  {
   "cell_type": "code",
   "execution_count": 2,
   "metadata": {
    "ExecuteTime": {
     "end_time": "2023-04-26T11:53:02.158787Z",
     "start_time": "2023-04-26T11:53:02.012818Z"
    }
   },
   "outputs": [],
   "source": [
    "# Now, calculate the euclidean distances between model responses\n",
    "from scipy.spatial.distance import pdist, squareform\n",
    "\n",
    "distances = pdist(responses, metric='euclidean')\n",
    "distances = squareform(distances)"
   ]
  },
  {
   "cell_type": "code",
   "execution_count": 3,
   "metadata": {
    "ExecuteTime": {
     "end_time": "2023-04-26T11:53:03.350319Z",
     "start_time": "2023-04-26T11:53:02.148341Z"
    }
   },
   "outputs": [],
   "source": [
    "# Cluster the responses using KMedoids\n",
    "from pyDGSA.cluster import KMedoids\n",
    "\n",
    "n_clusters = 3\n",
    "clusterer = KMedoids(n_clusters=n_clusters, max_iter=3000, tol=1e-4)\n",
    "labels, medoids = clusterer.fit_predict(distances)"
   ]
  },
  {
   "cell_type": "markdown",
   "metadata": {},
   "source": [
    "It's also easy to use a different clustering method, e.g.:\n",
    "```python\n",
    "from sklearn.cluster import KMeans\n",
    "\n",
    "n_clusters = 3\n",
    "clusterer = KMedoids(n_clusters=n_clusters, max_iter=3000, tol=1e-4)\n",
    "labels = clusterer.fit_predict(distances)\n",
    "```"
   ]
  },
  {
   "cell_type": "markdown",
   "metadata": {},
   "source": [
    "## Examples using `pyDGSA.dgsa`\n",
    "\n",
    "Next, let's calculate the mean standardized  sensitivity using a specific alpha quantile (0.99 instead of 0.95) and a larger number of boots (5000 instead of 3000). Recall that the sensitivity is defined as $\\frac{d}{d_{0.95}}$, so we are instead calculating $\\frac{d}{d_{0.99}}$."
   ]
  },
  {
   "cell_type": "code",
   "execution_count": 4,
   "metadata": {
    "ExecuteTime": {
     "end_time": "2023-04-26T11:53:08.199721Z",
     "start_time": "2023-04-26T11:53:03.288934Z"
    }
   },
   "outputs": [
    {
     "data": {
      "application/vnd.jupyter.widget-view+json": {
       "model_id": "806cb36b39a64d10b6202488d62d3bc0",
       "version_major": 2,
       "version_minor": 0
      },
      "text/plain": [
       "  0%|          | 0/5000 [00:00<?, ?it/s]"
      ]
     },
     "metadata": {},
     "output_type": "display_data"
    },
    {
     "name": "stdout",
     "output_type": "stream",
     "text": [
      "   sensitivity  confidence\n",
      "v     0.455984    0.195646\n",
      "w     0.356607    0.155724\n",
      "x     1.565448    0.662106\n",
      "y     1.273796    0.513998\n",
      "z     3.135701    1.362364\n"
     ]
    }
   ],
   "source": [
    "from pyDGSA.dgsa import dgsa\n",
    "\n",
    "parameter_names=['v', 'w', 'x', 'y', 'z']\n",
    "mean_sensitivity = dgsa(parameters, labels, parameter_names=parameter_names, quantile=0.99, \n",
    "                        n_boots=5000, confidence=True)\n",
    "print(mean_sensitivity)"
   ]
  },
  {
   "cell_type": "markdown",
   "metadata": {},
   "source": [
    "Instead of showing the mean sensitivity averaged across all clusters, it's also possible to return the standardized sensitivity for each individual cluster. The example below provides names for each cluster, assuming you know the unique characteristics that define each cluster."
   ]
  },
  {
   "cell_type": "code",
   "execution_count": 5,
   "metadata": {
    "ExecuteTime": {
     "end_time": "2023-04-26T11:53:11.199494Z",
     "start_time": "2023-04-26T11:53:08.199281Z"
    }
   },
   "outputs": [
    {
     "data": {
      "application/vnd.jupyter.widget-view+json": {
       "model_id": "686606c20da446558c7ce576549bf585",
       "version_major": 2,
       "version_minor": 0
      },
      "text/plain": [
       "  0%|          | 0/3000 [00:00<?, ?it/s]"
      ]
     },
     "metadata": {},
     "output_type": "display_data"
    },
    {
     "name": "stdout",
     "output_type": "stream",
     "text": [
      "   Low cluster  Medium cluster  High cluster\n",
      "v     0.598869        0.340782      0.834040\n",
      "w     0.403301        0.364699      0.607509\n",
      "x     0.750329        2.861751      2.400433\n",
      "y     0.429101        2.364884      2.221403\n",
      "z     5.657981        3.355306      2.832346\n"
     ]
    }
   ],
   "source": [
    "cluster_names = ['Low cluster', 'Medium cluster', 'High cluster']\n",
    "\n",
    "cluster_sensitivity = dgsa(parameters, labels, parameter_names=parameter_names, \n",
    "                           output='cluster_avg', cluster_names=cluster_names)\n",
    "print(cluster_sensitivity)"
   ]
  },
  {
   "cell_type": "markdown",
   "metadata": {},
   "source": [
    "## Examples using `pyDGSA.dgsa_interactions`\n",
    "\n",
    "The pyDGSA package includes functionality for calcuating two-way parameter interactions. The fastest way to do so is to use all the default options."
   ]
  },
  {
   "cell_type": "code",
   "execution_count": 6,
   "metadata": {
    "ExecuteTime": {
     "end_time": "2023-04-26T11:53:36.248378Z",
     "start_time": "2023-04-26T11:53:11.233617Z"
    }
   },
   "outputs": [
    {
     "data": {
      "application/vnd.jupyter.widget-view+json": {
       "model_id": "5f7aecb34ecf41b994467a9b831fbdd3",
       "version_major": 2,
       "version_minor": 0
      },
      "text/plain": [
       "Performing DGSA:   0%|          | 0/5 [00:00<?, ?it/s]"
      ]
     },
     "metadata": {},
     "output_type": "display_data"
    },
    {
     "data": {
      "application/vnd.jupyter.widget-view+json": {
       "model_id": "0cb23c8c0b4b45efa0d957552681011d",
       "version_major": 2,
       "version_minor": 0
      },
      "text/plain": [
       "Resampling parameter 0:   0%|          | 0/3 [00:00<?, ?it/s]"
      ]
     },
     "metadata": {},
     "output_type": "display_data"
    },
    {
     "data": {
      "application/vnd.jupyter.widget-view+json": {
       "model_id": "b72250774a1b42a79afd46de06b38a0a",
       "version_major": 2,
       "version_minor": 0
      },
      "text/plain": [
       "Resampling parameter 1:   0%|          | 0/3 [00:00<?, ?it/s]"
      ]
     },
     "metadata": {},
     "output_type": "display_data"
    },
    {
     "data": {
      "application/vnd.jupyter.widget-view+json": {
       "model_id": "2bd7a005a9b347d8b1b875c0292da33c",
       "version_major": 2,
       "version_minor": 0
      },
      "text/plain": [
       "Resampling parameter 2:   0%|          | 0/3 [00:00<?, ?it/s]"
      ]
     },
     "metadata": {},
     "output_type": "display_data"
    },
    {
     "data": {
      "application/vnd.jupyter.widget-view+json": {
       "model_id": "974e4681051a4bba89631c6322305e4a",
       "version_major": 2,
       "version_minor": 0
      },
      "text/plain": [
       "Resampling parameter 3:   0%|          | 0/3 [00:00<?, ?it/s]"
      ]
     },
     "metadata": {},
     "output_type": "display_data"
    },
    {
     "data": {
      "application/vnd.jupyter.widget-view+json": {
       "model_id": "ce8868b53fbf48489593df5124482c26",
       "version_major": 2,
       "version_minor": 0
      },
      "text/plain": [
       "Resampling parameter 4:   0%|          | 0/3 [00:00<?, ?it/s]"
      ]
     },
     "metadata": {},
     "output_type": "display_data"
    },
    {
     "name": "stdout",
     "output_type": "stream",
     "text": [
      "      sensitivity\n",
      "y | x    0.908179\n",
      "x | y    0.872662\n",
      "z | y    0.668454\n",
      "z | x    0.657496\n",
      "w | v    0.651146\n",
      "y | z    0.644677\n",
      "z | w    0.598508\n",
      "x | z     0.57697\n",
      "v | w    0.576641\n",
      "z | v    0.558648\n",
      "v | y    0.553543\n",
      "y | v    0.518164\n",
      "w | y    0.514569\n",
      "x | v    0.495972\n",
      "w | z    0.479069\n",
      "y | w    0.464019\n",
      "v | z    0.458896\n",
      "v | x    0.441488\n",
      "x | w    0.429785\n",
      "w | x     0.36559\n"
     ]
    }
   ],
   "source": [
    "from pyDGSA.dgsa import dgsa_interactions\n",
    "\n",
    "mean_interact_sensitivity = dgsa_interactions(parameters, labels, \n",
    "                                              parameter_names=parameter_names)\n",
    "print(mean_interact_sensitivity)"
   ]
  },
  {
   "cell_type": "markdown",
   "metadata": {},
   "source": [
    "Or, it's possible to specify interactions between only a few conditional parameters. For example, to calculate sensitivity when `x` and `y` are conditioned to one of 5 bins:"
   ]
  },
  {
   "cell_type": "code",
   "execution_count": 7,
   "metadata": {
    "ExecuteTime": {
     "end_time": "2023-04-26T11:53:50.406353Z",
     "start_time": "2023-04-26T11:53:36.259387Z"
    }
   },
   "outputs": [
    {
     "data": {
      "application/vnd.jupyter.widget-view+json": {
       "model_id": "cabab0eb418e4e33881164e2108d8933",
       "version_major": 2,
       "version_minor": 0
      },
      "text/plain": [
       "Performing DGSA:   0%|          | 0/2 [00:00<?, ?it/s]"
      ]
     },
     "metadata": {},
     "output_type": "display_data"
    },
    {
     "data": {
      "application/vnd.jupyter.widget-view+json": {
       "model_id": "274aadb048524bff8e779ef1e347d767",
       "version_major": 2,
       "version_minor": 0
      },
      "text/plain": [
       "Resampling parameter 2:   0%|          | 0/3 [00:00<?, ?it/s]"
      ]
     },
     "metadata": {},
     "output_type": "display_data"
    },
    {
     "data": {
      "application/vnd.jupyter.widget-view+json": {
       "model_id": "894a94c4ecd84c4f8a7026bb61ec3c1b",
       "version_major": 2,
       "version_minor": 0
      },
      "text/plain": [
       "Resampling parameter 3:   0%|          | 0/3 [00:00<?, ?it/s]"
      ]
     },
     "metadata": {},
     "output_type": "display_data"
    },
    {
     "name": "stdout",
     "output_type": "stream",
     "text": [
      "      sensitivity\n",
      "y | x    0.734527\n",
      "x | y    0.730011\n",
      "z | x    0.640277\n",
      "w | y    0.588537\n",
      "z | y    0.562469\n",
      "v | x    0.519093\n",
      "v | y    0.506588\n",
      "w | x     0.42739\n"
     ]
    }
   ],
   "source": [
    "sens = dgsa_interactions(parameters, labels, \n",
    "                         cond_parameters=['x', 'y'], \n",
    "                         parameter_names=parameter_names, \n",
    "                         n_bins=5)\n",
    "print(sens)"
   ]
  },
  {
   "cell_type": "markdown",
   "metadata": {},
   "source": [
    "The sensitivity values reported above are averaged over each cluster and bin. To get the standardized sensitivity on individual cluster/bin levels, specify the output format (`output='cluster_avg'` or `output='bin_avg'`). "
   ]
  },
  {
   "cell_type": "code",
   "execution_count": 8,
   "metadata": {
    "ExecuteTime": {
     "end_time": "2023-04-26T11:54:13.764394Z",
     "start_time": "2023-04-26T11:53:50.399677Z"
    }
   },
   "outputs": [
    {
     "data": {
      "application/vnd.jupyter.widget-view+json": {
       "model_id": "1b1d4d523ea445a3a9e9fe9b582ecfa6",
       "version_major": 2,
       "version_minor": 0
      },
      "text/plain": [
       "Performing DGSA:   0%|          | 0/5 [00:00<?, ?it/s]"
      ]
     },
     "metadata": {},
     "output_type": "display_data"
    },
    {
     "data": {
      "application/vnd.jupyter.widget-view+json": {
       "model_id": "207e948d54964b6cbfbcacb5dd59819c",
       "version_major": 2,
       "version_minor": 0
      },
      "text/plain": [
       "Resampling parameter 0:   0%|          | 0/3 [00:00<?, ?it/s]"
      ]
     },
     "metadata": {},
     "output_type": "display_data"
    },
    {
     "data": {
      "application/vnd.jupyter.widget-view+json": {
       "model_id": "2f2e02d027444714b1c31a940057afd3",
       "version_major": 2,
       "version_minor": 0
      },
      "text/plain": [
       "Resampling parameter 1:   0%|          | 0/3 [00:00<?, ?it/s]"
      ]
     },
     "metadata": {},
     "output_type": "display_data"
    },
    {
     "data": {
      "application/vnd.jupyter.widget-view+json": {
       "model_id": "91fed6349da747f49bc199e26d3ea94e",
       "version_major": 2,
       "version_minor": 0
      },
      "text/plain": [
       "Resampling parameter 2:   0%|          | 0/3 [00:00<?, ?it/s]"
      ]
     },
     "metadata": {},
     "output_type": "display_data"
    },
    {
     "data": {
      "application/vnd.jupyter.widget-view+json": {
       "model_id": "6d184820d962466288a972a49c915263",
       "version_major": 2,
       "version_minor": 0
      },
      "text/plain": [
       "Resampling parameter 3:   0%|          | 0/3 [00:00<?, ?it/s]"
      ]
     },
     "metadata": {},
     "output_type": "display_data"
    },
    {
     "data": {
      "application/vnd.jupyter.widget-view+json": {
       "model_id": "d2345b42719e4933843194093fcc4eb9",
       "version_major": 2,
       "version_minor": 0
      },
      "text/plain": [
       "Resampling parameter 4:   0%|          | 0/3 [00:00<?, ?it/s]"
      ]
     },
     "metadata": {},
     "output_type": "display_data"
    },
    {
     "name": "stdout",
     "output_type": "stream",
     "text": [
      "      Low cluster Medium cluster High cluster\n",
      "w | v    0.591762       0.668299     0.691331\n",
      "x | v    0.622732       0.344145     0.505189\n",
      "y | v    0.383689       0.651758     0.519206\n",
      "z | v    0.452141       0.656166     0.564586\n",
      "v | w    0.354213       0.590104     0.772603\n",
      "x | w     0.54957        0.39248     0.344005\n",
      "y | w    0.469349       0.448644     0.483745\n",
      "z | w    0.531438       0.631256     0.609565\n",
      "v | x    0.539679       0.263529     0.506464\n",
      "w | x    0.496236       0.316391     0.275341\n",
      "y | x     0.62305       0.551134     1.590995\n",
      "z | x    0.918058       0.548941     0.497353\n",
      "v | y    0.561524       0.754619     0.353799\n",
      "w | y    0.510214       0.450502     0.579161\n",
      "x | y    0.346825       0.623171     1.623529\n",
      "z | y    0.896835       0.755608      0.36219\n",
      "v | z    0.234825       0.537751     0.606061\n",
      "w | z    0.655053       0.296638     0.494565\n",
      "x | z    0.534954       0.664616     0.519951\n",
      "y | z    0.901359       0.617478     0.376259\n"
     ]
    }
   ],
   "source": [
    "cluster_interact_sensitivity = dgsa_interactions(parameters, labels, \n",
    "                                                 parameter_names=parameter_names,\n",
    "                                                 cluster_names=cluster_names, \n",
    "                                                 output='cluster_avg')\n",
    "print(cluster_interact_sensitivity)"
   ]
  },
  {
   "cell_type": "markdown",
   "metadata": {},
   "source": [
    "To get the standardized sensitivity for each individual bin and cluster, specify `output='indiv'`:"
   ]
  },
  {
   "cell_type": "code",
   "execution_count": 9,
   "metadata": {
    "ExecuteTime": {
     "end_time": "2023-04-26T11:54:35.987367Z",
     "start_time": "2023-04-26T11:54:13.773749Z"
    }
   },
   "outputs": [
    {
     "data": {
      "application/vnd.jupyter.widget-view+json": {
       "model_id": "18b92dbd83534deb9829627b676f523b",
       "version_major": 2,
       "version_minor": 0
      },
      "text/plain": [
       "Performing DGSA:   0%|          | 0/5 [00:00<?, ?it/s]"
      ]
     },
     "metadata": {},
     "output_type": "display_data"
    },
    {
     "data": {
      "application/vnd.jupyter.widget-view+json": {
       "model_id": "3801dd5bfc2d4159a782cf5e9f0fba6b",
       "version_major": 2,
       "version_minor": 0
      },
      "text/plain": [
       "Resampling parameter 0:   0%|          | 0/3 [00:00<?, ?it/s]"
      ]
     },
     "metadata": {},
     "output_type": "display_data"
    },
    {
     "data": {
      "application/vnd.jupyter.widget-view+json": {
       "model_id": "98ab4295d1d34a019a3196273c016290",
       "version_major": 2,
       "version_minor": 0
      },
      "text/plain": [
       "Resampling parameter 1:   0%|          | 0/3 [00:00<?, ?it/s]"
      ]
     },
     "metadata": {},
     "output_type": "display_data"
    },
    {
     "data": {
      "application/vnd.jupyter.widget-view+json": {
       "model_id": "4166e99221224409ad0c5e0f6e0ebdce",
       "version_major": 2,
       "version_minor": 0
      },
      "text/plain": [
       "Resampling parameter 2:   0%|          | 0/3 [00:00<?, ?it/s]"
      ]
     },
     "metadata": {},
     "output_type": "display_data"
    },
    {
     "data": {
      "application/vnd.jupyter.widget-view+json": {
       "model_id": "eea91b36f3c94acdb923ab63b02a43c2",
       "version_major": 2,
       "version_minor": 0
      },
      "text/plain": [
       "Resampling parameter 3:   0%|          | 0/3 [00:00<?, ?it/s]"
      ]
     },
     "metadata": {},
     "output_type": "display_data"
    },
    {
     "data": {
      "application/vnd.jupyter.widget-view+json": {
       "model_id": "aa11f4718a744ac280bed7794688f435",
       "version_major": 2,
       "version_minor": 0
      },
      "text/plain": [
       "Resampling parameter 4:   0%|          | 0/3 [00:00<?, ?it/s]"
      ]
     },
     "metadata": {},
     "output_type": "display_data"
    },
    {
     "name": "stdout",
     "output_type": "stream",
     "text": [
      "      Low cluster                     Medium cluster                      \\\n",
      "            Bin 0     Bin 1     Bin 2          Bin 0     Bin 1     Bin 2   \n",
      "w | v    0.503844  0.692944  0.562456       0.428221  0.847467  0.708479   \n",
      "x | v    0.712417   0.76341  0.439572        0.42725  0.414799  0.192287   \n",
      "y | v    0.233243  0.474491  0.423296       0.865421   0.82305  0.304426   \n",
      "z | v    0.343141  0.353934  0.624437       0.962733  0.740255  0.249103   \n",
      "v | w    0.300174   0.27057  0.492374       0.259278  0.834929  0.676847   \n",
      "x | w    0.474899  0.696288   0.45222       0.378983  0.418103  0.396206   \n",
      "y | w    0.321202  0.508288  0.558565       0.438869  0.634005  0.294465   \n",
      "z | w    0.711351  0.699979  0.216777       0.588379  0.823141   0.53154   \n",
      "v | x    0.662055  0.248071  0.753351            NaN  0.223828  0.302273   \n",
      "w | x    0.440701  0.492215  0.571381            NaN  0.313487   0.32513   \n",
      "y | x     0.50327  0.806643  0.487472            NaN  0.619322  0.471222   \n",
      "z | x    0.653528  1.150262  0.924981            NaN   0.59831  0.514911   \n",
      "v | y    0.651179  0.674107  0.344727       0.309624  1.051924  0.891845   \n",
      "w | y    0.410691  0.404078  0.722373       0.506089  0.554684  0.288954   \n",
      "x | y    0.359206   0.42785  0.245327       0.842447  0.656426  0.376278   \n",
      "z | y    0.548651   1.27048  0.866633       0.669152  0.721758  0.904287   \n",
      "v | z    0.222804  0.254723       NaN            NaN  0.457059  0.619827   \n",
      "w | z    0.629556  0.637623       NaN            NaN  0.277703  0.311292   \n",
      "x | z    0.505946  0.596378       NaN            NaN  0.495738  0.842092   \n",
      "y | z     0.88537  0.941374       NaN            NaN  0.468164  0.790176   \n",
      "\n",
      "      High cluster                      \n",
      "             Bin 0     Bin 1     Bin 2  \n",
      "w | v     0.826301  0.345857  0.940499  \n",
      "x | v     0.477825  0.609614   0.43989  \n",
      "y | v     0.613519  0.602548  0.318257  \n",
      "z | v     0.514149  0.429052  0.767755  \n",
      "v | w     0.678615  0.500588  1.193823  \n",
      "x | w     0.275608  0.460307  0.285399  \n",
      "y | w     0.436733  0.347288   0.67494  \n",
      "z | w     0.618978  0.911349  0.340447  \n",
      "v | x     0.623719  0.706317  0.228269  \n",
      "w | x     0.275315  0.350133  0.203243  \n",
      "y | x     2.127716  1.301753  1.274492  \n",
      "z | x     0.706226  0.612532  0.160448  \n",
      "v | y     0.348575  0.402365   0.29322  \n",
      "w | y     0.260259  0.720704  0.734716  \n",
      "x | y       2.2437  1.187986  1.449533  \n",
      "z | y     0.231484  0.300422  0.560633  \n",
      "v | z          NaN  0.605981  0.617828  \n",
      "w | z          NaN  0.525171  0.458329  \n",
      "x | z          NaN  0.504912  0.553849  \n",
      "y | z          NaN  0.408165   0.33029  \n"
     ]
    }
   ],
   "source": [
    "from pyDGSA.dgsa import dgsa_interactions\n",
    "raw_interact_sensitivity = dgsa_interactions(parameters, labels, \n",
    "                                             parameter_names=parameter_names,\n",
    "                                             cluster_names=cluster_names, \n",
    "                                             output='indiv')\n",
    "print(raw_interact_sensitivity)"
   ]
  },
  {
   "cell_type": "markdown",
   "metadata": {
    "collapsed": false,
    "jupyter": {
     "outputs_hidden": false
    }
   },
   "source": [
    "## Examples using `pyDGSA.plot`\n",
    "\n",
    "### Plotting `dgsa` results\n",
    "\n",
    "First, let's generate a pareto plot of the mean_sensitivity, but only show paraemters with\n",
    "sensitivty >= 1 (ie, when the hypothesis test is rejected), plus the next most sensitive parameter (`np_plot='+1'`)"
   ]
  },
  {
   "cell_type": "code",
   "execution_count": 10,
   "metadata": {
    "ExecuteTime": {
     "end_time": "2023-04-26T11:54:36.707231Z",
     "start_time": "2023-04-26T11:54:35.990315Z"
    }
   },
   "outputs": [
    {
     "data": {
      "image/png": "[encoded data removed]",
      "text/plain": [
       "<Figure size 500x200 with 1 Axes>"
      ]
     },
     "metadata": {},
     "output_type": "display_data"
    }
   ],
   "source": [
    "from pyDGSA.plot import vert_pareto_plot\n",
    "\n",
    "fig, ax = vert_pareto_plot(mean_sensitivity, np_plot='+1', confidence=True)"
   ]
  },
  {
   "cell_type": "markdown",
   "metadata": {},
   "source": [
    "It's also possible to create a pareto plot of cluster-specific sensitivities, using pre-defined colors for each cluster. Defining the colors is useful for keeping cluster colors consistent across multiple plots"
   ]
  },
  {
   "cell_type": "code",
   "execution_count": 11,
   "metadata": {
    "ExecuteTime": {
     "end_time": "2023-04-26T11:54:37.015682Z",
     "start_time": "2023-04-26T11:54:36.739968Z"
    }
   },
   "outputs": [
    {
     "data": {
      "image/png": "[encoded data removed]",
      "text/plain": [
       "<Figure size 500x200 with 1 Axes>"
      ]
     },
     "metadata": {},
     "output_type": "display_data"
    }
   ],
   "source": [
    "# Define the colors for each cluster\n",
    "cluster_colors = ['orange', 'green', 'yellow']\n",
    "\n",
    "# Only plot 3 parameters total to save space (np_plot=3)\n",
    "fig, ax = vert_pareto_plot(cluster_sensitivity, np_plot=3, fmt='cluster_avg', \n",
    "                           colors=cluster_colors)"
   ]
  },
  {
   "cell_type": "markdown",
   "metadata": {},
   "source": [
    "Next, plot the cdf for parameter `z`, using the same color scheme as the pareto plot above."
   ]
  },
  {
   "cell_type": "code",
   "execution_count": 12,
   "metadata": {
    "ExecuteTime": {
     "end_time": "2023-04-26T11:54:37.510566Z",
     "start_time": "2023-04-26T11:54:37.015456Z"
    }
   },
   "outputs": [
    {
     "data": {
      "image/png": "[encoded data removed]",
      "text/plain": [
       "<Figure size 500x500 with 1 Axes>"
      ]
     },
     "metadata": {},
     "output_type": "display_data"
    }
   ],
   "source": [
    "from pyDGSA.plot import plot_cdf\n",
    "\n",
    "fig, ax = plot_cdf(parameters, labels, 'z', parameter_names=parameter_names, \n",
    "                   cluster_names=cluster_names, colors=cluster_colors)"
   ]
  },
  {
   "cell_type": "markdown",
   "metadata": {
    "collapsed": false,
    "jupyter": {
     "outputs_hidden": false
    }
   },
   "source": [
    "### Plotting response clusters\n",
    "\n",
    "Next, let's plot the distance between simulations using multidimensional scaling.\n",
    "This is important, as these distances are the defining feature that control all\n",
    "other sensitivity calculations."
   ]
  },
  {
   "cell_type": "code",
   "execution_count": 13,
   "metadata": {
    "ExecuteTime": {
     "end_time": "2023-04-26T11:54:37.967002Z",
     "start_time": "2023-04-26T11:54:37.515154Z"
    },
    "collapsed": false,
    "jupyter": {
     "outputs_hidden": false
    }
   },
   "outputs": [
    {
     "data": {
      "text/plain": [
       "<matplotlib.legend.Legend at 0x14c4a7cb0>"
      ]
     },
     "execution_count": 13,
     "metadata": {},
     "output_type": "execute_result"
    },
    {
     "data": {
      "image/png": "[encoded data removed]",
      "text/plain": [
       "<Figure size 800x500 with 1 Axes>"
      ]
     },
     "metadata": {},
     "output_type": "display_data"
    }
   ],
   "source": [
    "import matplotlib.pyplot as plt\n",
    "from sklearn.manifold import MDS\n",
    "\n",
    "# Get MDS representation of distance matrix\n",
    "mds = MDS(n_components=2, dissimilarity='precomputed', random_state=1, normalized_stress=False)\n",
    "mds_dist = mds.fit_transform(distances)\n",
    "\n",
    "## Plot mds distances as scatterplot\n",
    "fig, ax = plt.subplots(figsize=(8, 5), facecolor='white')\n",
    "x = mds_dist[:, 0]\n",
    "y = mds_dist[:, 1]\n",
    "\n",
    "# Plotting each cluster individually using a for loop,\n",
    "# though it's possible to plot all clusters at once using\n",
    "# ax.scatter(x, y, c=[cluster_colors[i] for i in labels])\n",
    "for i in range(n_clusters):\n",
    "    sc = ax.scatter(x[labels == i], y[labels == i],\n",
    "                    c=cluster_colors[i], label=cluster_names[i])\n",
    "ax.set(xlabel='Dim 1', ylabel='Dim 2')\n",
    "ax.legend()"
   ]
  },
  {
   "cell_type": "markdown",
   "metadata": {},
   "source": [
    "### Plotting `dgsa_interactions` results\n",
    "\n",
    "To display pareto plots of two-way parameter interactions averaged across each cluster and each bin, the options are the same as when plotting `dgsa` results"
   ]
  },
  {
   "cell_type": "code",
   "execution_count": 14,
   "metadata": {
    "ExecuteTime": {
     "end_time": "2023-04-26T11:54:38.266014Z",
     "start_time": "2023-04-26T11:54:37.974951Z"
    }
   },
   "outputs": [
    {
     "data": {
      "image/png": "[encoded data removed]",
      "text/plain": [
       "<Figure size 500x400 with 1 Axes>"
      ]
     },
     "metadata": {},
     "output_type": "display_data"
    }
   ],
   "source": [
    "# Only show interactions with sensitivity >= 1 and the next 5 most \n",
    "# sensitive interactions (np_plot = '+8')\n",
    "fig, ax = vert_pareto_plot(mean_interact_sensitivity, np_plot='+8')"
   ]
  },
  {
   "cell_type": "markdown",
   "metadata": {},
   "source": [
    "Similarly, the options when cluster-specific `dgsa_interactions` results is the same as when plotting cluster-specific `dgsa` results."
   ]
  },
  {
   "cell_type": "code",
   "execution_count": 15,
   "metadata": {
    "ExecuteTime": {
     "end_time": "2023-04-26T11:54:38.678498Z",
     "start_time": "2023-04-26T11:54:38.271691Z"
    }
   },
   "outputs": [
    {
     "data": {
      "image/png": "[encoded data removed]",
      "text/plain": [
       "<Figure size 500x500 with 1 Axes>"
      ]
     },
     "metadata": {},
     "output_type": "display_data"
    }
   ],
   "source": [
    "# By default, np_plot = '+5'\n",
    "fig, ax = vert_pareto_plot(cluster_interact_sensitivity, \n",
    "                           fmt='cluster_avg',\n",
    "                           colors=cluster_colors)"
   ]
  },
  {
   "cell_type": "markdown",
   "metadata": {},
   "source": [
    "Plot the standardized sensitivity for each bin/cluster combination is also possible. Note that the bars with a bold outline represent those for which the sensitivity >= 1."
   ]
  },
  {
   "cell_type": "code",
   "execution_count": 16,
   "metadata": {
    "ExecuteTime": {
     "end_time": "2023-04-26T11:54:39.092401Z",
     "start_time": "2023-04-26T11:54:38.678220Z"
    }
   },
   "outputs": [
    {
     "data": {
      "image/png": "[encoded data removed]",
      "text/plain": [
       "<Figure size 500x600 with 1 Axes>"
      ]
     },
     "metadata": {},
     "output_type": "display_data"
    }
   ],
   "source": [
    "fig, ax = vert_pareto_plot(raw_interact_sensitivity, \n",
    "                           fmt='indiv',\n",
    "                           colors=cluster_colors,\n",
    "                           np_plot=8)"
   ]
  },
  {
   "cell_type": "code",
   "execution_count": null,
   "metadata": {},
   "outputs": [],
   "source": []
  }
 ],
 "metadata": {
  "kernelspec": {
   "display_name": "Python 3 (ipykernel)",
   "language": "python",
   "name": "python3"
  },
  "language_info": {
   "codemirror_mode": {
    "name": "ipython",
    "version": 3
   },
   "file_extension": ".py",
   "mimetype": "text/x-python",
   "name": "python",
   "nbconvert_exporter": "python",
   "pygments_lexer": "ipython3",
   "version": "3.12.0"
  }
 },
 "nbformat": 4,
 "nbformat_minor": 4
}
