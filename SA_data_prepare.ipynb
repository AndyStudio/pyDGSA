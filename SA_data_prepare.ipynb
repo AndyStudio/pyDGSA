{
 "cells": [
  {
   "cell_type": "code",
   "execution_count": 18,
   "metadata": {},
   "outputs": [],
   "source": [
    "import numpy as np\n",
    "import pandas as pd\n",
    "import os \n",
    "import matplotlib.pyplot as plt"
   ]
  },
  {
   "cell_type": "markdown",
   "metadata": {},
   "source": [
    "## Read data from multiple folders / simulation runs"
   ]
  },
  {
   "cell_type": "code",
   "execution_count": 18,
   "metadata": {},
   "outputs": [],
   "source": [
    "folder_path = '../../CCUS/data/GlobalSA_exp1/'\n",
    "\n",
    "dfexp = pd.read_csv(os.path.join(folder_path, 'exp_design_runall_sample1.csv'))\n",
    "allnpynames = os.listdir(os.path.join(folder_path, 'simfiles_runall_sample1', 'rst_npy'))\n",
    "caseid = np.sort([int(x.split('_')[0][4:]) for x in allnpynames])\n",
    "dfexpX = dfexp[dfexp['caseid'].isin(caseid)]\n",
    "\n",
    "dfexplhs = pd.read_csv(os.path.join(folder_path, 'exp_design_LHS205.csv'))\n",
    "lhsnpynames = os.listdir(os.path.join(folder_path, 'simfiles_LHS205', 'rst_npy'))\n",
    "lhscaseid = np.sort([int(x.split('_')[0][4:]) for x in lhsnpynames])\n",
    "lhsdfexpX = dfexplhs[dfexplhs['caseid'].isin(lhscaseid)]"
   ]
  },
  {
   "cell_type": "code",
   "execution_count": 21,
   "metadata": {},
   "outputs": [],
   "source": []
  },
  {
   "cell_type": "markdown",
   "metadata": {},
   "source": [
    "## Merge all simulation runs together"
   ]
  },
  {
   "cell_type": "code",
   "execution_count": 33,
   "metadata": {},
   "outputs": [],
   "source": [
    "dfall = pd.concat([dfexpX, lhsdfexpX])\n",
    "caseid = [int(ii+1) for ii in range(dfall.shape[0])]\n",
    "tag = ['runall_sample1']*dfexpX.shape[0] + ['LHS205']*lhsdfexpX.shape[0]\n",
    "dfall = dfall.rename(columns={'caseid': 'raw_caseid'})\n",
    "dfall.insert(0, \"tag\", tag)\n",
    "dfall.insert(0, \"caseid\", caseid)"
   ]
  },
  {
   "cell_type": "markdown",
   "metadata": {},
   "source": [
    "Save dfall to csv"
   ]
  },
  {
   "cell_type": "code",
   "execution_count": 35,
   "metadata": {},
   "outputs": [],
   "source": [
    "# dfall.to_csv(os.path.join(folder_path, 'DGSA_exp1.csv'), index=False)"
   ]
  },
  {
   "cell_type": "markdown",
   "metadata": {},
   "source": [
    "## Read all samples in npy format\n",
    "\n",
    "- Pad 0 for variable time length data"
   ]
  },
  {
   "cell_type": "code",
   "execution_count": 131,
   "metadata": {},
   "outputs": [],
   "source": [
    "max_inj_hrzn = dfall['inj_hrzn, year'].max()\n",
    "num_samples = dfall.shape[0]\n",
    "rst_npy = np.zeros((num_samples, 33, 33, max_inj_hrzn))\n",
    "\n",
    "# Data 1: runall_sample1 data\n",
    "for i, idx in enumerate(dfall[dfall['tag'] == 'runall_sample1']['raw_caseid'].tolist()):\n",
    "    npy_temp = np.load(os.path.join(folder_path, 'simfiles_runall_sample1', 'rst_npy', f'case{idx}_VERDSPLGEO.npy'))\n",
    "    time_dim = npy_temp.shape[-1]\n",
    "    rst_npy[i,:,:,:int(time_dim-3)] = npy_temp[:,:,0,1:-2]\n",
    "\n",
    "# Data 2: LHS205 data\n",
    "for j, idx in enumerate(dfall[dfall['tag'] == 'LHS205']['raw_caseid'].tolist()):\n",
    "    npy_idx = int(j + dfall[dfall['tag'] == 'runall_sample1'].shape[0])\n",
    "    npy_temp = np.load(os.path.join(folder_path, 'simfiles_LHS205', 'rst_npy', f'case{idx}_VERDSPLGEO.npy'))\n",
    "    time_dim = npy_temp.shape[-1]\n",
    "    rst_npy[npy_idx,:,:,:int(time_dim-3)] = npy_temp[:,:,0,1:-2]"
   ]
  },
  {
   "cell_type": "code",
   "execution_count": 132,
   "metadata": {},
   "outputs": [
    {
     "data": {
      "text/plain": [
       "(196, 33, 33, 30)"
      ]
     },
     "execution_count": 132,
     "metadata": {},
     "output_type": "execute_result"
    }
   ],
   "source": [
    "rst_npy.shape"
   ]
  },
  {
   "cell_type": "markdown",
   "metadata": {},
   "source": [
    "Save rst_npy for dimension reduction"
   ]
  },
  {
   "cell_type": "code",
   "execution_count": 133,
   "metadata": {},
   "outputs": [],
   "source": [
    "# np.save(os.path.join(folder_path, 'DGSA_exp1.npy'), rst_npy)"
   ]
  },
  {
   "cell_type": "markdown",
   "metadata": {},
   "source": [
    "## Load from exisiting files"
   ]
  },
  {
   "cell_type": "code",
   "execution_count": 2,
   "metadata": {},
   "outputs": [
    {
     "data": {
      "text/plain": [
       "(196, 33, 33, 30)"
      ]
     },
     "execution_count": 2,
     "metadata": {},
     "output_type": "execute_result"
    }
   ],
   "source": [
    "folder_path = '../../CCUS/data/GlobalSA_exp1/'\n",
    "\n",
    "load_dfall = pd.read_csv(os.path.join(folder_path, 'DGSA_exp1.csv'))\n",
    "load_rst_npy = np.load(os.path.join(folder_path, 'DGSA_exp1.npy'))\n",
    "\n",
    "dfall = load_dfall\n",
    "rst_npy = load_rst_npy\n",
    "\n",
    "load_rst_npy.shape"
   ]
  },
  {
   "cell_type": "code",
   "execution_count": 28,
   "metadata": {},
   "outputs": [
    {
     "data": {
      "text/html": [
       "<div>\n",
       "<style scoped>\n",
       "    .dataframe tbody tr th:only-of-type {\n",
       "        vertical-align: middle;\n",
       "    }\n",
       "\n",
       "    .dataframe tbody tr th {\n",
       "        vertical-align: top;\n",
       "    }\n",
       "\n",
       "    .dataframe thead th {\n",
       "        text-align: right;\n",
       "    }\n",
       "</style>\n",
       "<table border=\"1\" class=\"dataframe\">\n",
       "  <thead>\n",
       "    <tr style=\"text-align: right;\">\n",
       "      <th></th>\n",
       "      <th>caseid</th>\n",
       "      <th>tag</th>\n",
       "      <th>raw_caseid</th>\n",
       "      <th>caseid_runall</th>\n",
       "      <th>E_shale, psi</th>\n",
       "      <th>E_sand, psi</th>\n",
       "      <th>v_shale</th>\n",
       "      <th>v_sand</th>\n",
       "      <th>kvkh</th>\n",
       "      <th>inj_rate, ft3/day</th>\n",
       "      <th>inj_hrzn, year</th>\n",
       "      <th>term_status</th>\n",
       "    </tr>\n",
       "  </thead>\n",
       "  <tbody>\n",
       "    <tr>\n",
       "      <th>0</th>\n",
       "      <td>1</td>\n",
       "      <td>runall_sample1</td>\n",
       "      <td>1</td>\n",
       "      <td>73.0</td>\n",
       "      <td>4740000.00</td>\n",
       "      <td>2760000.00</td>\n",
       "      <td>0.287</td>\n",
       "      <td>0.137</td>\n",
       "      <td>0.100</td>\n",
       "      <td>3.680833e+07</td>\n",
       "      <td>10</td>\n",
       "      <td>0</td>\n",
       "    </tr>\n",
       "    <tr>\n",
       "      <th>1</th>\n",
       "      <td>2</td>\n",
       "      <td>runall_sample1</td>\n",
       "      <td>2</td>\n",
       "      <td>556.0</td>\n",
       "      <td>11700000.00</td>\n",
       "      <td>2760000.00</td>\n",
       "      <td>0.287</td>\n",
       "      <td>0.272</td>\n",
       "      <td>0.500</td>\n",
       "      <td>1.051667e+08</td>\n",
       "      <td>10</td>\n",
       "      <td>0</td>\n",
       "    </tr>\n",
       "    <tr>\n",
       "      <th>2</th>\n",
       "      <td>3</td>\n",
       "      <td>runall_sample1</td>\n",
       "      <td>3</td>\n",
       "      <td>852.0</td>\n",
       "      <td>11700000.00</td>\n",
       "      <td>8310000.00</td>\n",
       "      <td>0.287</td>\n",
       "      <td>0.272</td>\n",
       "      <td>1.000</td>\n",
       "      <td>7.098750e+07</td>\n",
       "      <td>30</td>\n",
       "      <td>1</td>\n",
       "    </tr>\n",
       "    <tr>\n",
       "      <th>3</th>\n",
       "      <td>4</td>\n",
       "      <td>runall_sample1</td>\n",
       "      <td>4</td>\n",
       "      <td>784.0</td>\n",
       "      <td>11700000.00</td>\n",
       "      <td>8310000.00</td>\n",
       "      <td>0.255</td>\n",
       "      <td>0.272</td>\n",
       "      <td>2.000</td>\n",
       "      <td>3.680833e+07</td>\n",
       "      <td>10</td>\n",
       "      <td>0</td>\n",
       "    </tr>\n",
       "    <tr>\n",
       "      <th>4</th>\n",
       "      <td>5</td>\n",
       "      <td>runall_sample1</td>\n",
       "      <td>5</td>\n",
       "      <td>366.0</td>\n",
       "      <td>8220000.00</td>\n",
       "      <td>5535000.00</td>\n",
       "      <td>0.287</td>\n",
       "      <td>0.137</td>\n",
       "      <td>0.100</td>\n",
       "      <td>7.098750e+07</td>\n",
       "      <td>30</td>\n",
       "      <td>0</td>\n",
       "    </tr>\n",
       "    <tr>\n",
       "      <th>...</th>\n",
       "      <td>...</td>\n",
       "      <td>...</td>\n",
       "      <td>...</td>\n",
       "      <td>...</td>\n",
       "      <td>...</td>\n",
       "      <td>...</td>\n",
       "      <td>...</td>\n",
       "      <td>...</td>\n",
       "      <td>...</td>\n",
       "      <td>...</td>\n",
       "      <td>...</td>\n",
       "      <td>...</td>\n",
       "    </tr>\n",
       "    <tr>\n",
       "      <th>191</th>\n",
       "      <td>192</td>\n",
       "      <td>LHS205</td>\n",
       "      <td>190</td>\n",
       "      <td>NaN</td>\n",
       "      <td>11503431.60</td>\n",
       "      <td>3878265.04</td>\n",
       "      <td>0.266</td>\n",
       "      <td>0.228</td>\n",
       "      <td>0.533</td>\n",
       "      <td>4.739659e+07</td>\n",
       "      <td>16</td>\n",
       "      <td>0</td>\n",
       "    </tr>\n",
       "    <tr>\n",
       "      <th>192</th>\n",
       "      <td>193</td>\n",
       "      <td>LHS205</td>\n",
       "      <td>191</td>\n",
       "      <td>NaN</td>\n",
       "      <td>7245976.62</td>\n",
       "      <td>3846273.48</td>\n",
       "      <td>0.269</td>\n",
       "      <td>0.158</td>\n",
       "      <td>0.890</td>\n",
       "      <td>6.306762e+07</td>\n",
       "      <td>16</td>\n",
       "      <td>0</td>\n",
       "    </tr>\n",
       "    <tr>\n",
       "      <th>193</th>\n",
       "      <td>194</td>\n",
       "      <td>LHS205</td>\n",
       "      <td>201</td>\n",
       "      <td>NaN</td>\n",
       "      <td>10122716.13</td>\n",
       "      <td>7687501.54</td>\n",
       "      <td>0.277</td>\n",
       "      <td>0.215</td>\n",
       "      <td>0.489</td>\n",
       "      <td>3.933247e+07</td>\n",
       "      <td>18</td>\n",
       "      <td>0</td>\n",
       "    </tr>\n",
       "    <tr>\n",
       "      <th>194</th>\n",
       "      <td>195</td>\n",
       "      <td>LHS205</td>\n",
       "      <td>204</td>\n",
       "      <td>NaN</td>\n",
       "      <td>6547649.78</td>\n",
       "      <td>4070065.50</td>\n",
       "      <td>0.256</td>\n",
       "      <td>0.256</td>\n",
       "      <td>1.479</td>\n",
       "      <td>6.601529e+07</td>\n",
       "      <td>24</td>\n",
       "      <td>0</td>\n",
       "    </tr>\n",
       "    <tr>\n",
       "      <th>195</th>\n",
       "      <td>196</td>\n",
       "      <td>LHS205</td>\n",
       "      <td>205</td>\n",
       "      <td>NaN</td>\n",
       "      <td>10772727.20</td>\n",
       "      <td>7759282.15</td>\n",
       "      <td>0.263</td>\n",
       "      <td>0.207</td>\n",
       "      <td>0.573</td>\n",
       "      <td>5.897786e+07</td>\n",
       "      <td>11</td>\n",
       "      <td>0</td>\n",
       "    </tr>\n",
       "  </tbody>\n",
       "</table>\n",
       "<p>196 rows × 12 columns</p>\n",
       "</div>"
      ],
      "text/plain": [
       "     caseid             tag  raw_caseid  caseid_runall  E_shale, psi  \\\n",
       "0         1  runall_sample1           1           73.0    4740000.00   \n",
       "1         2  runall_sample1           2          556.0   11700000.00   \n",
       "2         3  runall_sample1           3          852.0   11700000.00   \n",
       "3         4  runall_sample1           4          784.0   11700000.00   \n",
       "4         5  runall_sample1           5          366.0    8220000.00   \n",
       "..      ...             ...         ...            ...           ...   \n",
       "191     192          LHS205         190            NaN   11503431.60   \n",
       "192     193          LHS205         191            NaN    7245976.62   \n",
       "193     194          LHS205         201            NaN   10122716.13   \n",
       "194     195          LHS205         204            NaN    6547649.78   \n",
       "195     196          LHS205         205            NaN   10772727.20   \n",
       "\n",
       "     E_sand, psi  v_shale  v_sand   kvkh  inj_rate, ft3/day  inj_hrzn, year  \\\n",
       "0     2760000.00    0.287   0.137  0.100       3.680833e+07              10   \n",
       "1     2760000.00    0.287   0.272  0.500       1.051667e+08              10   \n",
       "2     8310000.00    0.287   0.272  1.000       7.098750e+07              30   \n",
       "3     8310000.00    0.255   0.272  2.000       3.680833e+07              10   \n",
       "4     5535000.00    0.287   0.137  0.100       7.098750e+07              30   \n",
       "..           ...      ...     ...    ...                ...             ...   \n",
       "191   3878265.04    0.266   0.228  0.533       4.739659e+07              16   \n",
       "192   3846273.48    0.269   0.158  0.890       6.306762e+07              16   \n",
       "193   7687501.54    0.277   0.215  0.489       3.933247e+07              18   \n",
       "194   4070065.50    0.256   0.256  1.479       6.601529e+07              24   \n",
       "195   7759282.15    0.263   0.207  0.573       5.897786e+07              11   \n",
       "\n",
       "     term_status  \n",
       "0              0  \n",
       "1              0  \n",
       "2              1  \n",
       "3              0  \n",
       "4              0  \n",
       "..           ...  \n",
       "191            0  \n",
       "192            0  \n",
       "193            0  \n",
       "194            0  \n",
       "195            0  \n",
       "\n",
       "[196 rows x 12 columns]"
      ]
     },
     "execution_count": 28,
     "metadata": {},
     "output_type": "execute_result"
    }
   ],
   "source": [
    "dfall"
   ]
  },
  {
   "cell_type": "markdown",
   "metadata": {},
   "source": [
    "## Visualization "
   ]
  },
  {
   "cell_type": "code",
   "execution_count": 40,
   "metadata": {},
   "outputs": [
    {
     "data": {
      "image/png": "[encoded data removed]",
      "text/plain": [
       "<Figure size 640x480 with 2 Axes>"
      ]
     },
     "metadata": {},
     "output_type": "display_data"
    }
   ],
   "source": [
    "sample_idx = 194\n",
    "time_idx = 19\n",
    "\n",
    "fig, ax = plt.subplots()\n",
    "plt.imshow(rst_npy[int(sample_idx-1),:,:,int(time_idx-1)])\n",
    "plt.xlabel('X coordinate', fontsize=14)\n",
    "plt.ylabel('Y coordinate', fontsize=14)\n",
    "plt.title(f'The {sample_idx} sample query at {time_idx} year after injection', fontsize=14)\n",
    "cbar = plt.colorbar()\n",
    "cbar.set_label(\"Land surface uplift, ft\", fontsize=14)\n",
    "cbar.ax.tick_params(labelsize=14) \n",
    "ax.axes.get_xaxis().set_ticks([])\n",
    "ax.axes.get_yaxis().set_ticks([])\n",
    "plt.show()"
   ]
  },
  {
   "cell_type": "code",
   "execution_count": null,
   "metadata": {},
   "outputs": [],
   "source": []
  }
 ],
 "metadata": {
  "kernelspec": {
   "display_name": "ccus",
   "language": "python",
   "name": "python3"
  },
  "language_info": {
   "codemirror_mode": {
    "name": "ipython",
    "version": 3
   },
   "file_extension": ".py",
   "mimetype": "text/x-python",
   "name": "python",
   "nbconvert_exporter": "python",
   "pygments_lexer": "ipython3",
   "version": "3.12.0"
  }
 },
 "nbformat": 4,
 "nbformat_minor": 2
}
